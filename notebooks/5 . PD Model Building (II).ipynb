{
 "cells": [
  {
   "cell_type": "markdown",
   "id": "a4090bcb",
   "metadata": {},
   "source": [
    "drop `int_rate` for PD modeling, but not for survival analysis"
   ]
  }
 ],
 "metadata": {
  "language_info": {
   "name": "python"
  }
 },
 "nbformat": 4,
 "nbformat_minor": 5
}
