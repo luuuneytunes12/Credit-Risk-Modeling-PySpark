{
 "cells": [
  {
   "cell_type": "markdown",
   "metadata": {
    "application/vnd.databricks.v1+cell": {
     "cellMetadata": {
      "byteLimit": 2048000,
      "rowLimit": 10000
     },
     "inputWidgets": {},
     "nuid": "4f371e1b-132e-4abb-a335-db5caa300df8",
     "showTitle": false,
     "tableResultSettingsMap": {},
     "title": ""
    }
   },
   "source": [
    "\n",
    "This notebook lies in the phase of **Exploratory Data Analysis (EDA)**. EDA of the Lending Club dataset shall be carried out in 3 main phases: **Data Understanding & Data Cleaning, Feature Engineering**. \n",
    "\n",
    "This notebook is dedicated for **Data Understanding**. By the end of this notebook, I should be able to\n",
    "  - Understand **data dictionary terminologies**\n",
    "  - Identify **more critical columns**\n",
    "\n",
    "\n",
    "\n",
    "\n",
    "\n",
    "\n"
   ]
  },
  {
   "cell_type": "markdown",
   "metadata": {
    "application/vnd.databricks.v1+cell": {
     "cellMetadata": {
      "byteLimit": 2048000,
      "rowLimit": 10000
     },
     "inputWidgets": {},
     "nuid": "f0c277f9-aad8-4fef-b63b-f0003c9af1f6",
     "showTitle": false,
     "tableResultSettingsMap": {},
     "title": ""
    }
   },
   "source": [
    "The dataset is from a [Kaggle Dataset](https://www.kaggle.com/datasets/wordsforthewise/lending-club), which has records of all loans issued to borrowers between 2007 - 2018 Q4. I will now conduct Exploratory Data Analysis to get a sensing of the dataset, before proceeding further. \n",
    "\n"
   ]
  },
  {
   "cell_type": "code",
   "execution_count": 0,
   "metadata": {
    "application/vnd.databricks.v1+cell": {
     "cellMetadata": {
      "byteLimit": 2048000,
      "rowLimit": 10000
     },
     "inputWidgets": {},
     "nuid": "4f4d2a95-103d-4e54-9232-c9c06f316113",
     "showTitle": true,
     "tableResultSettingsMap": {},
     "title": ""
    }
   },
   "outputs": [],
   "source": [
    "# Import Libraries \n",
    "from pyspark.sql.functions import col"
   ]
  },
  {
   "cell_type": "code",
   "execution_count": 0,
   "metadata": {
    "application/vnd.databricks.v1+cell": {
     "cellMetadata": {
      "byteLimit": 2048000,
      "rowLimit": 10000
     },
     "inputWidgets": {},
     "nuid": "aa291f82-63dd-493d-8f4b-f7829a7f9a6e",
     "showTitle": false,
     "tableResultSettingsMap": {
      "0": {
       "dataGridStateBlob": null,
       "filterBlob": "{\"version\":1,\"filterGroups\":[{\"enabled\":true,\"op\":\"OR\",\"filterGroupId\":\"fg_2203de48\",\"filters\":[{\"filterId\":\"f_4129924e\",\"columnId\":\"policy_code\",\"enabled\":true,\"dataType\":\"string\",\"filterType\":\"eqn\",\"filterValue\":\"1.0\",\"filterConfig\":{\"caseSensitive\":true,\"includeMax\":true,\"includeMin\":true}}],\"local\":false,\"updatedAt\":1749210901192}],\"syncTimestamp\":1749210901192}",
       "queryPlanFiltersBlob": "[{\"kind\":\"call\",\"function\":\"or\",\"args\":[{\"kind\":\"call\",\"function\":\"not\",\"args\":[{\"kind\":\"call\",\"function\":\"like\",\"args\":[{\"kind\":\"identifier\",\"identifier\":\"policy_code\"},{\"kind\":\"literal\",\"value\":\"1.0\",\"type\":\"string\"}]}]}]}]",
       "tableResultIndex": 0
      }
     },
     "title": ""
    }
   },
   "outputs": [
    {
     "output_type": "display_data",
     "data": {
      "text/plain": [
       "Databricks filtered table. Run in Databricks to view."
      ]
     },
     "metadata": {
      "application/vnd.databricks.v1.subcommand+json": {
       "baseErrorDetails": null,
       "bindings": {},
       "collapsed": false,
       "command": "%python\n__backend_agg_display_orig = display\n__backend_agg_dfs = []\ndef __backend_agg_display_new(df):\n    __backend_agg_df_modules = [\"pandas.core.frame\", \"databricks.koalas.frame\", \"pyspark.sql.dataframe\", \"pyspark.pandas.frame\", \"pyspark.sql.connect.dataframe\"]\n    if (type(df).__module__ in __backend_agg_df_modules and type(df).__name__ == 'DataFrame') or isinstance(df, list):\n        __backend_agg_dfs.append(df)\n\ndisplay = __backend_agg_display_new\n\ndef __backend_agg_user_code_fn():\n    import base64\n    exec(base64.standard_b64decode(\"IyBJIHdpbGwgbmVlZCB0aGUgZm9sbG93aW5nIGNvZGUgdG8gaW5pdGlhbGlzZSBTcGFyayBTZXNzaW9uIGluIHN0YW5kYWxvbmUgUHl0aG9uIG5vdGVib29rcwojIGZyb20gcHlzcGFyay5zcWwgaW1wb3J0IFNwYXJrU2Vzc2lvbgojIHNwYXJrID0gU3BhcmtTZXNzaW9uLmJ1aWxkZXIuYXBwTmFtZSgiRGF0YSBDbGVhbmluZyIpLmdldE9yQ3JlYXRlKCkKCgojIEZpbGUgRW5kcG9pbnQgYW5kIEZvcm1hdCAKZmlsZV9sb2NhdGlvbiA9ICIvRmlsZVN0b3JlL3RhYmxlcy9hY2NlcHRlZF8yMDA3X3RvXzIwMThRNC5jc3YiCmZpbGVfdHlwZSA9ICJjc3YiCgojIENTViBvcHRpb25zCmluZmVyX3NjaGVtYSA9ICJ0cnVlIiAjIGVuc3VyZXMgYWxsIGNvbHVtbnMgYXJlIG5vdCBzdGlybmcgdHlwZSAKZmlyc3Rfcm93X2lzX2hlYWRlciA9ICJ0cnVlIgpkZWxpbWl0ZXIgPSAiLCIKCiMgUmVhZGluZyBhIENTViBmaWxlIApkZiA9IHNwYXJrLnJlYWQuZm9ybWF0KGZpbGVfdHlwZSkgXAogIC5vcHRpb24oImluZmVyU2NoZW1hIiwgaW5mZXJfc2NoZW1hKSBcCiAgLm9wdGlvbigiaGVhZGVyIiwgZmlyc3Rfcm93X2lzX2hlYWRlcikgXAogIC5vcHRpb24oInNlcCIsIGRlbGltaXRlcikgXAogIC5sb2FkKGZpbGVfbG9jYXRpb24pCgpkaXNwbGF5KGRmKQ==\").decode())\n\ntry:\n    # run user code\n    __backend_agg_user_code_fn()\n\n    #reset display function\n    display = __backend_agg_display_orig\n\n    if len(__backend_agg_dfs) > 0:\n        # create a temp view\n        if type(__backend_agg_dfs[0]).__module__ == \"databricks.koalas.frame\":\n            # koalas dataframe\n            __backend_agg_dfs[0].to_spark().createOrReplaceTempView(\"DatabricksView94b8fec\")\n        elif type(__backend_agg_dfs[0]).__module__ == \"pandas.core.frame\" or isinstance(__backend_agg_dfs[0], list):\n            # pandas dataframe\n            spark.createDataFrame(__backend_agg_dfs[0]).createOrReplaceTempView(\"DatabricksView94b8fec\")\n        else:\n            __backend_agg_dfs[0].createOrReplaceTempView(\"DatabricksView94b8fec\")\n        #run backend agg\n        display(spark.sql(\"\"\"WITH q AS (select * from DatabricksView94b8fec) SELECT * FROM q WHERE NOT (`policy_code` LIKE '1.0')\"\"\"))\n    else:\n        displayHTML(\"dataframe no longer exists. If you're using dataframe.display(), use display(dataframe) instead.\")\n\n\nfinally:\n    spark.sql(\"drop view if exists DatabricksView94b8fec\")\n    display = __backend_agg_display_orig\n    del __backend_agg_display_new\n    del __backend_agg_display_orig\n    del __backend_agg_dfs\n    del __backend_agg_user_code_fn\n\n",
       "commandTitle": "Table",
       "commandType": "auto",
       "commandVersion": 0,
       "commentThread": [],
       "commentsVisible": false,
       "contentSha256Hex": null,
       "customPlotOptions": {
        "redashChart": [
         {
          "key": "type",
          "value": "TABLE"
         },
         {
          "key": "options",
          "value": {}
         }
        ]
       },
       "datasetPreviewNameToCmdIdMap": {},
       "diffDeletes": [],
       "diffInserts": [],
       "displayType": "backendAggTable",
       "error": null,
       "errorDetails": null,
       "errorSummary": null,
       "errorTraceType": null,
       "finishTime": 1749210947253,
       "globalVars": {},
       "guid": "",
       "height": "auto",
       "hideCommandCode": false,
       "hideCommandResult": false,
       "iPythonMetadata": null,
       "inputWidgets": {},
       "isLockedInExamMode": false,
       "latestUser": "a user",
       "latestUserId": null,
       "listResultMetadata": [
        [
         "table",
         190
        ]
       ],
       "metadata": {
        "byteLimit": 2048000,
        "rowLimit": 10000
       },
       "nuid": "b5bcbdaa-154a-4d9f-938b-e9e56e7c6754",
       "origId": 0,
       "parentHierarchy": [],
       "pivotAggregation": null,
       "pivotColumns": null,
       "position": 0.0,
       "resultDbfsErrorMessage": null,
       "resultDbfsStatus": "INLINED_IN_TREE",
       "results": null,
       "showCommandTitle": false,
       "startTime": 1749210906359,
       "state": "input",
       "streamStates": {},
       "subcommandOptions": {
        "queryPlan": {
         "filters": [
          {
           "args": [
            {
             "args": [
              {
               "args": [
                {
                 "identifier": "policy_code",
                 "kind": "identifier"
                },
                {
                 "kind": "literal",
                 "type": "string",
                 "value": "1.0"
                }
               ],
               "function": "like",
               "kind": "call"
              }
             ],
             "function": "not",
             "kind": "call"
            }
           ],
           "function": "or",
           "kind": "call"
          }
         ]
        }
       },
       "submitTime": 1749210906325,
       "subtype": "tableResultSubCmd.backendAggTable",
       "tableResultIndex": 0,
       "tableResultSettingsMap": {},
       "useConsistentColors": false,
       "version": "CommandV1",
       "width": "auto",
       "workflows": null,
       "xColumns": null,
       "yColumns": null
      }
     },
     "output_type": "display_data"
    }
   ],
   "source": [
    "# I will need the following code to initialise Spark Session in standalone Python notebooks\n",
    "# from pyspark.sql import SparkSession\n",
    "# spark = SparkSession.builder.appName(\"Data Cleaning\").getOrCreate()\n",
    "\n",
    "\n",
    "# File Endpoint and Format \n",
    "file_location = \"/FileStore/tables/accepted_2007_to_2018Q4.csv\"\n",
    "file_type = \"csv\"\n",
    "\n",
    "# CSV options\n",
    "infer_schema = \"true\" # ensures all columns are not stirng type \n",
    "first_row_is_header = \"true\"\n",
    "delimiter = \",\"\n",
    "\n",
    "# Reading a CSV file \n",
    "df = spark.read.format(file_type) \\\n",
    "  .option(\"inferSchema\", infer_schema) \\\n",
    "  .option(\"header\", first_row_is_header) \\\n",
    "  .option(\"sep\", delimiter) \\\n",
    "  .load(file_location)\n",
    "\n",
    "display(df)"
   ]
  },
  {
   "cell_type": "markdown",
   "metadata": {
    "application/vnd.databricks.v1+cell": {
     "cellMetadata": {
      "byteLimit": 2048000,
      "rowLimit": 10000
     },
     "inputWidgets": {},
     "nuid": "cba91bc0-3aeb-484d-ae80-c6c775cf1bf3",
     "showTitle": false,
     "tableResultSettingsMap": {},
     "title": ""
    }
   },
   "source": [
    "## 1. Data Dictionary \n",
    "\n",
    "The following is the explanation of what some features in the dataset mean. There will be additional explanations in some features to facilitate my understanding of each column. The original data dictionary is obtained from [Figshare](https://figshare.com/articles/dataset/Lending_club_dataset_description/20016077). \n",
    "\n",
    "The below is the data dictionary I have compiled, which is more beginner friendly for aspiring credit risk modellers. I have grouped similar columns together to understand the dataset better, instead of just staring at seemingly random columns. 📍 Red Pin emojis are used to flag seemingly more critical columns for credit risk modeling. \n",
    "\n",
    "### 1.1 Loan Details \n",
    "\n",
    "- **id**: Unique loan listing / request identifier (not yet funded / issued)\n",
    "- **memberId**: Unique borrower ID \n",
    "- **loan_amnt**: Amount requested by borrower\n",
    "- **issue_d**: Month-Year the loan is funded/issued to borrower \n",
    "\n",
    "- **funded_amnt**: Total amount of money funded to the borrower (may be partially / fully funded)\n",
    "- **funded_amnt_inv**: Total amount of money funded to borrower by **investors** (should be the same as `funded_amnt`)\n",
    "  - This column exists, because in **investors' dataset**, investors can see individual contributions to the borrower's requested amount \n",
    "- **term**: Loan term (months)\n",
    "- **int_rate**: Interest rate\n",
    "- **installment**: Monthly payment upon approved loan \n",
    "\n",
    "- **grade vs sub_grade**: \n",
    "  - Grade: Broad Risk Category (A,B)\n",
    "  - Sub_Grade: A1,B2 (Specific)\n",
    "\n",
    "- **purpose**: Reason for borrowing money\n",
    "\n",
    "- **title**: Similar to `purpose`\n",
    "\n",
    "- **desc**: Loan description (provided by borrower, like a Carousel Listing)\n",
    "\n",
    "- **url**: Link to loan listing \n",
    "\n",
    "- **initial_list_status**: Lending Club determines how loans will be funded by investors based on risk level, investors then see these listings on the platform\n",
    "  - `F`: Fractional loans (Many investors fund small parts)\n",
    "  - `w`: Whole loans (Offered to 1 investor who funds everything)\n",
    "\n",
    "- **disbursement_method**: How loan funding was delivered to borrower\n",
    "  - **Cash**: Funds directly deposited to borrower's bank account \n",
    "  - **Direct_Pay**: Lending Club pays debts for you (Use new personal loan to pay off old debts, at lower interest rates)\n",
    "\n",
    "- **policy_code**:\n",
    "  - `1`: Publicly Available Product (Loan is public in Lending Club Platform)\n",
    "  - `2`: Private Loan Product (Loan is a special private offering, e.g. for ceertain investors only)\n",
    "\n",
    "- **pymnt_plan**: Checks if payment plan in place for borrower to catch up on missed payments \n",
    "  - 'n': refers to 'No Payment Plan'\n",
    "\n",
    "- **application_type**: Single / Joint \n",
    "loan application \n",
    "\n",
    "- 📍 **loan_status**: Actual status of the loan (e.g., Current, Fully Paid, Charged Off) -> Target Variable for most credit risk models \n",
    "\n",
    "\n",
    "### 1.2 Borrower Demographics\n",
    "- **emp_title**: Borrower’s job title\n",
    "- **emp_length**: Years in current job\n",
    "- **home_ownership**: Home ownership status (rented / owned)\n",
    "- **annual_inc**: Borrower’s annual income\n",
    "- **verification_status**: If **individual borrower's income** is verified by Lending Club platform (via Singpass in SG context)\n",
    "- **zip_code**/**addr_state**: U,S, state of residence (`CA`: California)\n",
    "\n",
    "### 1.3 Borrower Credit History & Scores\n",
    "- 📍 **dti**: Debt-Income Ratio (20% DTI means 20% of borrower's income go to debt payments) (Higher DTI is a red flag 🚩)\n",
    "\n",
    "- **delinq_2yrs**: Number of times borrower was 30+days late on payments (delinquency: missed payments) for the past 2 years\n",
    "\n",
    "- **earliest_cr_line**: Earliest Credit Line (Date borrower opened his earliest credit account) \n",
    "  - Open credit account usually means you start borrowing money / gain access to credit, e.g. buy now, pay later with credit cards \n",
    "\n",
    "- **last_fico_range_high & last_fico_range_low**: FICO scores upon last credit report pull by Lending Club (to decide on loan approval)\n",
    "\n",
    "- 📍 **fico_range_low & fico_range_high**: Credit Rating of Borrower when they are approved for loan (used to assess credit risk)\n",
    "  - 300–579\tPoor\n",
    "  - 580–669\tFair\n",
    "  - 670–739\tGood\n",
    "  - 740–799\tVery Good\n",
    "  - 800–850\tExcellent\n",
    "\n",
    "- 📍 **inq_last_6mths**: Number of credit inquiries past 6 months \n",
    "  - Everytime borrower applies loan, lender / Lending Club checks borrower's credit report  \n",
    "  - High number of credit inquiries = Borrower attempted to borrow money multiple times, possibly out of financial stress = higher risk of defaulting / delinquency\n",
    "\n",
    "- **inq_last_12m**: Number of credit inquiries by Lending Club on the borrower in past 12 months (to assess borrower risk level)\n",
    "\n",
    "- **inq_fi**: number of inquiries made by financial institutions into the borrower's credit report in the past 6 months — excluding auto loans and mortgage-related inquiries.\n",
    "\n",
    "- **mths_since_recent_inq**: Months since most recent inquiry by Lending Club on borrower \n",
    "\n",
    "\n",
    "- **open_acc**: How many credit accounts borrower has currently open (e.g. credit cards, loans, mortgages). Many credit accounts may mean over-reliance on credit and higher credit risk \n",
    "\n",
    "\n",
    "- 📍 **revol_bal**: Total amount borrower owes on revolving credit accounts (credit cards, lines of credit)\n",
    "  - **Revolving Accounts**: Borrower can reborrow money up till max credit limit without end-date (重复性的)\n",
    "  - **Installment Loan**: Borrower cannot reborrow unless he apply for new loan, 一次性借钱） \n",
    "  - **Line of Credit**: Type of revolving credit. Types are as shown: \n",
    "    - **Credit Card**\n",
    "    - **Personal Line of Credit**: Used to borrow from bank (for any loan)\n",
    "    - **Home Equity Line of Credit (HELOC)**: Used for home improvements / bulk purchases (home as collateral)\n",
    "    - **Business Line of Credit**: To help businesses with cash flow \n",
    "\n",
    "\n",
    "- **all_util**: Utilisation rate (% of credit used) across all credit lines (revolving and installment)\n",
    "\n",
    "\n",
    "- 📍 **revol_util**: Revolving Line Utilisation Rate (How much credit is borrower currently using, with respect to total credit limit in revolving credit accounts)\n",
    "\n",
    "- **total_acc**: Total number of credit lines / accounts borrower has in credit file (opened/closed)\n",
    "\n",
    "- **last_credit_pull_d**: The last date Lending Cluub checked borrower's credit report (monitor borrower, assess risk)\n",
    "\n",
    "\n",
    "- 📍 **collections_12_mths_ex_med**: Number of debt collections in past 12 months, excluding medical bills \n",
    "  - **Collection**: Borrower fails to repay debt -> Lending Club sells debt to collection agency -> Collection agency acts as loan shark to get back money \n",
    "  - Collections can be a **strong signal for financial distress**, since it signals trouble of repaying future loans \n",
    "\n",
    "### 1.4 Borrower Public Records & Delinquencies \n",
    "\n",
    "**Public Records** refers to negative financial events officially recorded in legal documents (serious credit / legal issues) ⚠️.\n",
    "\n",
    "Types are shown below: \n",
    "  - **Bankruptcy**\n",
    "  - **Tax Lien**: Government claim on property due to unpaid tax\n",
    "  - **Civil Judgement**: Court ruling (lawsuits) that borrower must pay debt \n",
    "\n",
    "- Empty records considered to be more stable \n",
    "\n",
    "The following columns reflect relevance to public records & delinquencies, revealing possibly higher credit risk: \n",
    "- **pub_rec_bankruptcies**: Number of bankruptcies listed as public records \n",
    "\n",
    "- **tax_liens**: Number of tax liens \n",
    "\n",
    "- **delinq_amnt**: Total money currently owed on all delinquent accounts (It is time to pay money!)\n",
    "\n",
    "- **acc_now_delinq**: Number of accounts borrower is currently delinquent (late on payments)\n",
    "\n",
    "- **chargeoff_within_12_mths**: Number of accounts charged off (considered as loss/defaulted/closed) by creditors in past 12 months \n",
    "\n",
    "- **num_accts_ever_120_pd**: Number of times borrower is 120+ days late on payment in their life (Very Late)\n",
    "\n",
    "- **num_tl_30dpd**: Number of accounts currently 30 or more days due (Updated past 2 months)\n",
    "\n",
    "- **num_tl_90g_dpd_24m**: Number of accounts that have been 90 or more days past due in the last 24 months\n",
    "\n",
    "\n",
    "- **num_tl_120dpd_2m**: Number of accounts that have been 120 or more days past due in the last 2 months.\n",
    "\n",
    "\n",
    "- **mths_since_last_delinq**: Months since borrower's last delinquency (late payment)\n",
    "\n",
    "- **mths_since_recent_revol_delinq**: Months since most recent revolving delinquency (late payment)\n",
    "\n",
    "\n",
    "- 📍 **mths_since_last_record**: Months since borrowers' last **public record**\n",
    "\n",
    "- 📍 **pub_rec**: Number of degoratory public records (bankruptcies ...) the borrower has\n",
    "\n",
    "- 📍  **mths_since_last_major_derog**: The number of months since the borrower's most recent major derogatory event on their credit report, specifically a 90 days or worse delinquency\n",
    "\n",
    "- **mths_since_recent_bc_dlq**: Months since most recent bank card delinquency (late payment)\n",
    "\n",
    "\n",
    "\n",
    "### 1.5 Loan Performance & Balance Changes of Lending Club \n",
    "\n",
    "The following features track how loan behaves after issuing. **These features are crucial since they impact Lending Club profitability.**\n",
    "\n",
    "- **out_prncp**: Remaining Outstanding Principal Sum (How much of original loan, excluding interest, is left to be paid back) \n",
    "\n",
    "- **out_prncp_inv**: (Same as Above - Investors portion)\n",
    "\n",
    "- **total_pymnt**: Sum of all repayments made by Borrower so far (includes interest)\n",
    "\n",
    "- **total_pymnt_inv**: (Same as Above)\n",
    "\n",
    "- **total_rec_int**: Total Interest Received (made by borrower) by Lending Club\n",
    "\n",
    "- **total_rec_prncp**: Total Received Principal (excluding interest) by Lending Club\n",
    "\n",
    "- **last_pymnt_d**: Date of most recent payment made by borrower \n",
    "\n",
    "- **last_pymnt_amnt**: Amount of most recent payment received by Lending Club from borrower \n",
    "\n",
    "- **next_pymnt_date**: Scheduled date for next payment for the borrower \n",
    "\n",
    "- **total_rec_late_fee**: Total late penalty fees borrower paid till date\n",
    "\n",
    "- 📍 **recoveries**: Post Charge-Off Gross Recovery Payments \n",
    "  - Loan is charged off (marked as loss to investors due to borrower defaulting)\n",
    "  - **Post Charge Off Gross Recovery Payments**: Total recovered money after loan was charged off \n",
    "\n",
    "- 📍 **collection_recovery_fee**: Cost Lending Club has to incur to recover money **after loan has defaulted**\n",
    "\n",
    "\n",
    "\n",
    "### 1.6 Account Activity \n",
    "\n",
    "The following columns track borrower behaviour with credit accounts (opening/closing accounts, inquiries, delinquencies)\n",
    "\n",
    "- **num_tl_op_past_12m**: Number of credit accounts (revolving and long-term accountr) opened in past 12 months \n",
    "\n",
    "- **open_acc_6m**: Number of open tradelines (credit accounts) of borrowers in last 6 months\n",
    "\n",
    "- **open_act_il**: Number of currently active installment trades (tradelines / accounts)\n",
    "\n",
    "- **open_il_12m**: Number of installment accounts opened in past 12 months\n",
    "\n",
    "- **open_il_24m**: Number of installment accounts opened in past 24 months\n",
    "\n",
    "- **mths_since_rcnt_il**: Months since most recent installment accounts opened\n",
    "\n",
    "- **total_bal_il**: Total current balance of all installment accounts\n",
    "\n",
    "\n",
    "- **acc_open_past_24mths**: Number of trades/accounts opened in past 24 months\n",
    "\n",
    "- **num_tl_op_past_12m**: Number of credit accounts opened in past 12 months\n",
    "\n",
    "- **mo_sin_old_il_acct**: Months since oldest bank installment account opened\n",
    "\n",
    "- **mo_sin_old_rev_tl_op**: Months since oldest revolving account opened\n",
    "\n",
    "- **mo_sin_rcnt_rev_tl_op**: Months since most recent revolving account opened\n",
    "\n",
    "- **mo_sin_rcnt_tl**: Months since most recent credit account opened\n",
    "\n",
    "\n",
    "\n",
    "### 1.7 Joint Applications\n",
    "\n",
    "Joint Applications for a loan refers to a shared responsibility for repaying the full amount, e.g. couples, family members, friends, business partners. They have better chances of loan approval, given 1 appplicant has a stronger credit history. Missed payments (Delinquency) also affect credit scores of those involved. \n",
    "\n",
    "The following features are related to joint applications. \n",
    "\n",
    "- **verification_status_joint**: Checks if combined income of applicants is verified by Lending Club platform (For joint applications: e.g. )\n",
    "\n",
    "- **annual_inc_joint**: The combined annual income provided by the co:borrowers during registration\n",
    "\n",
    "- **dti_joint**: Borrowers' combined debt-income ratio\n",
    "\n",
    "- **revol_bal_joint** : Sum of revolving credit balance of the borrowers\n",
    "\n",
    "- **sec_app_earliest_cr_line** : For joint loans, this shows the co-borrower's oldest credit account date.\n",
    "\n",
    "- **sec_app_fico_range_low/high**: Secondary-borrower’s FICO score range\n",
    "\n",
    "- **sec_app_open_acc**: Number of open credit accounts of co-borrower\n",
    "\n",
    "- **sec_app_mort_acc**: Number of co-borrower's mortgage accounts\n",
    "\n",
    "\n",
    "\n",
    "### 1.8 Revolving Account Details \n",
    "To recap, revolving credit accounts refer to accounts that borrowers can reborrow, till the max credit limit, with no end-date. Examples include credit cards, and line of credits (tap on funds you can repay repeatedly with interest)\n",
    "\n",
    "- **open_rv_12m**: Number of revolving credit accounts borrower opened in the last 12 months\n",
    "\n",
    "- **open_rv_24m**: (Same as above, but in the past 24 months)\n",
    "\n",
    "- **max_bal_bc**: Highest balance ever owed on all revolving credit accounts \n",
    "\n",
    "- **total_rev_hi_lim**: Total credit limit on all revolving accounts \n",
    "\n",
    "- **bc_open_to_buy**: Amount of available credit left to spend on all bank cards (revolving)\n",
    "\n",
    "- **bc_util**: Ratio of total current balance to credit limit for all bank card accounts \n",
    "\n",
    "- **num_actv_rev_tl**: Number of current active revolving trade lines (active revolving credit accounts) borrower currently has \n",
    "\n",
    "- **num_rev_accts**: Number of revolving credit accounts borrower ever had \n",
    "\n",
    "- **num_rev_tl_bal_gt_0**: Number of revolving trade lines (credit accounts) with balance > 0 \n",
    "\n",
    "- **total_bc_limit**: Total credit limit across all bank cards\n",
    "\n",
    "- **mths_since_recent_bc**: Months since newest bank card account opened \n",
    "\n",
    "\n",
    "### 1.9 Mortgage & Installment Accounts \n",
    "The following columns are related to **long-term loans** such as mortgages and auto loans. A mortgage is a type of loan used to purchase real estate (house or land), in which the property serves as collateral (lender seizes property, if borrower faiils to repay). An auto loan refers to a loan taken to purchase cars. \n",
    "\n",
    "These accounts are different from revolving accounts (credit cards / lines of credit) since they are meant for the long-term and have lower risks. \n",
    "\n",
    "- **mort_acc**: Number of mortgage accounts\n",
    "\n",
    "- **num_il_tl**: Number of installment loans trade lines (credit accounts), e.g. mortgage, auto-loans, student loans\n",
    "\n",
    "- **num_bc_tl**: Number of bankcard credit accounts \n",
    "\n",
    "- **total_il_high_credit_limit**: Add up highest amounts every borrowed across all installment loans \n",
    "\n",
    "\n",
    "- 📍 **tot_hi_cred_lim**: Sum of ...\n",
    "  - Highest Credit Limit (Revolving Accounts)\n",
    "  - Original Loan Amounts (Installment Loans) across all of borrower's credit accounts \n",
    "  - Represents **total maximum amount of credit ever made available to borrower by all lenders = Potential borrowing capacity**\n",
    "\n",
    "\n",
    "- **il_util**: Ratio of total current balance to high credit/credit limit on all installment accounts \n",
    "\n",
    "\n",
    "### 1.10 Hardship & Settlement Programs \n",
    "Hardship programs (Loan-Specific) are to temporarily help borrowers in trouble, via payment reduction / lower interest rate etc. \n",
    "\n",
    "Settlement programs are permanent agreements where lender accepts less than full repayments. \n",
    "\n",
    "**Borrowers in these programmes have higher risk** ⚠️ and it is important to track them for credit risk modeling in banks. \n",
    "\n",
    "- **hardship_flag**: Borrower requested payment relief (Y / N)\n",
    "\n",
    "- **hardship_type**: Reason of hardship (e.g., job loss, medical)\n",
    "\n",
    "- **hardship_reason**: Detailed description of why the borrower needed help\n",
    "\n",
    "- **hardship_status**: Current state (active/completed/approved)\n",
    "\n",
    "- **hardship_amount**: New payment the borrower is allowed to make on this loan \n",
    "\n",
    "- **hardship_start_date/end_date**: Period is the hardship programme\n",
    "\n",
    "- **payment_plan_start_date**: First reduced payment date \n",
    "\n",
    "- **hardship_length**: How long the hardship program lasts (in months)\n",
    "\n",
    "- **hardship_dpd**: How late the borrower was in paying (in days) before getting hardship help \n",
    "\n",
    "- **hardship_loan_status**: Status of loan at the time borrower entered hardship plan (Loan is current [on-time]/ in grace / late)\n",
    "\n",
    "- **orig_projected_additional_accrued_interest**: Estimated extra interest borrower will have to pay if relief is not granted\n",
    "\n",
    "- **hardship_payoff_balance_amount**: Remaining balance of loan to be paid upon start of relief \n",
    "\n",
    "- **hardship_last_payment_amount**: Amount of last payment the borrower made before relief starts \n",
    "\n",
    "- **deferral_term**: Allowed to skip payments for n mths for an approved hardship plan \n",
    "\n",
    "- **debt_settlement_flag**: Borrower negotiated to pay less than owed (Y/N)\n",
    "\n",
    "- **debt_settlement_flag_date**: Date debt settlement status is set\n",
    "\n",
    "- **settlement_status**: Settlement progress (In Progress / Completed)\n",
    "\n",
    "- **settlement_date**: Date debt settlement is finalised (agreed on borrower and lender side)\n",
    "\n",
    "- **settlement_amount**: Final payment amount borrower agrees to pay for the debt settlement (less than what is originally owed)\n",
    "\n",
    "- **settlement_percentage**: % of original debt paid\n",
    "\n",
    "- **settlement_term**: Duration of settlement agreement (months)\n",
    "\n",
    "### 1.11 Aggregate Balances & Metrics \n",
    "The following columns are summary statistics of borrowers' overall credit health at the time of the loan listing. High credit balance may not be inherently bad, it all depends on borrowing behaviour of the borrower. \n",
    "\n",
    "- **tot_coll_amt**: Total debt in collections (extreme financial distress signaller!)\n",
    "\n",
    "- **tot_cur_bal**: Total current balance across all accounts (Spend money using credit = Balance increases)\n",
    "\n",
    "- **avg_cur_bal**: Average balance per account\n",
    "\n",
    "- **total_bal_ex_mort**: Total non-mortgage debt\n",
    "\n",
    "- **tot_hi_cred_lim**: Total high credit and/or credit limit (revolving + original loan amount)\n",
    "\n",
    "- **num_sats**: Number of satisfactory credit accounts\n",
    "\n",
    "- **num_bc_sats**: Number of satisfactory bank card acccounts \n",
    "\n",
    "- 📍 **pct_tl_nvr_dlq**: % trade lines (borrower credit accounts) never delinquent (never late on payment)\n",
    "\n",
    "- **percent_bc_gt_75**: % of bank cards with > 75% limit used\n",
    "\n",
    "- **total_cu_tl**: Number of Credit Union accounts / trade lines \n",
    "  - **Credit Union**: Members pool their money to provide loans to each other (offering lower interest rates on loans)\n",
    "  - Members of credit unions have lower credit risks due to higher financial stability \n",
    "\n",
    "After sorting out the data dictionary, I have identified some variables that can possibly aid us in predicting LGD, EAD and PD for credit risk modeling. They include: \n",
    "\n",
    "- **Borrower Demographic Data** \n",
    "- **Public Record & DelinquencyData** \n",
    "- **Loan Performance Data**\n",
    "- **FICO Data** \n",
    "- **Hardship & Settlement Data**\n"
   ]
  },
  {
   "cell_type": "markdown",
   "metadata": {
    "application/vnd.databricks.v1+cell": {
     "cellMetadata": {
      "byteLimit": 2048000,
      "rowLimit": 10000
     },
     "inputWidgets": {},
     "nuid": "695252bf-414f-41bb-9877-ef6f3346fee2",
     "showTitle": false,
     "tableResultSettingsMap": {},
     "title": ""
    }
   },
   "source": [
    "## 2. Examine Dataset \n",
    "\n",
    "In this section, I will be getting a general sensing of the dataset, e.g. knowing its dimensions, columns, data types of each columns. We will then proceed on to the **Medallion Architecture Data Cleaning Pipeline** step in the next notebook. \n"
   ]
  },
  {
   "cell_type": "code",
   "execution_count": 0,
   "metadata": {
    "application/vnd.databricks.v1+cell": {
     "cellMetadata": {
      "byteLimit": 2048000,
      "rowLimit": 10000
     },
     "inputWidgets": {},
     "nuid": "7f44772a-724c-4bc0-9dae-c1804ba06fb1",
     "showTitle": false,
     "tableResultSettingsMap": {},
     "title": ""
    }
   },
   "outputs": [],
   "source": [
    "df.limit(10).display()"
   ]
  },
  {
   "cell_type": "code",
   "execution_count": 0,
   "metadata": {
    "application/vnd.databricks.v1+cell": {
     "cellMetadata": {
      "byteLimit": 2048000,
      "rowLimit": 10000
     },
     "inputWidgets": {},
     "nuid": "52fa5669-066b-43f2-b482-d6892b74f203",
     "showTitle": false,
     "tableResultSettingsMap": {},
     "title": ""
    }
   },
   "outputs": [],
   "source": [
    "# Seeing the columns in Lending Club dataset and their respective data types \n",
    "# df.columns and df.dtypes in Pandas \n",
    "\n",
    "df.printSchema() # double refers to <float> type"
   ]
  },
  {
   "cell_type": "markdown",
   "metadata": {
    "application/vnd.databricks.v1+cell": {
     "cellMetadata": {
      "byteLimit": 2048000,
      "rowLimit": 10000
     },
     "inputWidgets": {},
     "nuid": "875cdd57-92e0-4979-92ac-070c603ac037",
     "showTitle": false,
     "tableResultSettingsMap": {},
     "title": ""
    }
   },
   "source": [
    "\n",
    "From the output above, it seems that there are non-industry standard `dtypes` of the columns. At a glance, they include `id` not being `int`, `term` in `string` form. These shall be type casted into correct data types after missing value imputations, since type-casting special characters may lead to unexpected missing values, affecting **data integrity**. "
   ]
  },
  {
   "cell_type": "code",
   "execution_count": 0,
   "metadata": {
    "application/vnd.databricks.v1+cell": {
     "cellMetadata": {
      "byteLimit": 2048000,
      "rowLimit": 10000
     },
     "inputWidgets": {},
     "nuid": "f9e0f432-5186-4130-b906-95ee0409301a",
     "showTitle": false,
     "tableResultSettingsMap": {},
     "title": ""
    }
   },
   "outputs": [],
   "source": [
    "# Check df.shape of Lending Club dataset \n",
    "\n",
    "# Get number of rows\n",
    "num_rows = df.count()\n",
    "\n",
    "# Get number of columns\n",
    "num_cols = len(df.columns)\n",
    "\n",
    "# Print shape (rows, columns)\n",
    "print(f\"Shape: ({num_rows} rows, {num_cols} columns)\")"
   ]
  },
  {
   "cell_type": "code",
   "execution_count": 0,
   "metadata": {
    "application/vnd.databricks.v1+cell": {
     "cellMetadata": {
      "byteLimit": 2048000,
      "rowLimit": 10000
     },
     "inputWidgets": {},
     "nuid": "70bc93a9-8b23-4424-82cf-49503b2036bc",
     "showTitle": false,
     "tableResultSettingsMap": {},
     "title": ""
    }
   },
   "outputs": [],
   "source": [
    "# Summary Statistics of Lending Club Datasets \n",
    "df.summary().display()"
   ]
  }
 ],
 "metadata": {
  "application/vnd.databricks.v1+notebook": {
   "computePreferences": null,
   "dashboards": [],
   "environmentMetadata": {
    "base_environment": "",
    "environment_version": "2"
   },
   "inputWidgetPreferences": null,
   "language": "python",
   "notebookMetadata": {
    "pythonIndentUnit": 4
   },
   "notebookName": "1. Data Understanding",
   "widgets": {}
  },
  "language_info": {
   "name": "python"
  }
 },
 "nbformat": 4,
 "nbformat_minor": 0
}
