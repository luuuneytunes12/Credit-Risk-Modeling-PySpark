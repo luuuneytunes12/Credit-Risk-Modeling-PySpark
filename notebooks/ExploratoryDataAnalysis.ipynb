{
 "cells": [
  {
   "cell_type": "markdown",
   "metadata": {
    "application/vnd.databricks.v1+cell": {
     "cellMetadata": {
      "byteLimit": 2048000,
      "rowLimit": 10000
     },
     "inputWidgets": {},
     "nuid": "4f371e1b-132e-4abb-a335-db5caa300df8",
     "showTitle": false,
     "tableResultSettingsMap": {},
     "title": ""
    }
   },
   "source": [
    "\n",
    "This notebook lies in the phase of **Exploratory Data Analysis (EDA)**. EDA of the Lending Club dataset shall be carried out in 3 main phases: **Data Understanding & Data Cleaning, Feature Engineering**. \n",
    "\n",
    "![Steps-for-Performing-Exploratory-Data-Analysis.png](../images/Steps-for-Performing-Exploratory-Data-Analysis.png \"Steps-for-Performing-Exploratory-Data-Analysis.png\")\n",
    "\n",
    "Main tasks of each phase is as follows: \n",
    "- **Data Understanding**\n",
    "  - Understand data dictionary terminologies \n",
    "  - Identify more critical columns \n",
    "\n",
    "- **Data Cleaning**\n",
    "  - Deal with Missing Values, Duplicates, Outliers \n",
    "\n",
    "- **Feature Engineering**\n",
    "  - Deal with Multicollinearity \n",
    "  - Feature Transformation, Standardisation, Dimensionality Reduction \n",
    "  - Dealing with Dataset Imbalance\n",
    "\n",
    "\n",
    "By the end of this notebook, I should be able to: \n",
    "- Output a **thoroughly cleansed target dataset** for efficient credit risk model building \n",
    "\n",
    "- Define **feature and target variables** from the target table clearly \n",
    "\n",
    "\n",
    "\n"
   ]
  },
  {
   "cell_type": "markdown",
   "metadata": {
    "application/vnd.databricks.v1+cell": {
     "cellMetadata": {
      "byteLimit": 2048000,
      "rowLimit": 10000
     },
     "inputWidgets": {},
     "nuid": "f0c277f9-aad8-4fef-b63b-f0003c9af1f6",
     "showTitle": false,
     "tableResultSettingsMap": {},
     "title": ""
    }
   },
   "source": [
    "## 1. Data Understanding \n",
    "\n",
    "The dataset is from a [Kaggle Dataset](https://www.kaggle.com/datasets/wordsforthewise/lending-club), which has records of all loans issued to borrowers between 2007 - 2018 Q4. I will now conduct Exploratory Data Analysis to get a sensing of the dataset, before proceeding further. \n",
    "\n"
   ]
  },
  {
   "cell_type": "code",
   "execution_count": 0,
   "metadata": {
    "application/vnd.databricks.v1+cell": {
     "cellMetadata": {
      "byteLimit": 2048000,
      "rowLimit": 10000
     },
     "inputWidgets": {},
     "nuid": "4f4d2a95-103d-4e54-9232-c9c06f316113",
     "showTitle": true,
     "tableResultSettingsMap": {},
     "title": ""
    }
   },
   "outputs": [],
   "source": [
    "# Import Libraries \n",
    "from pyspark.sql.functions import col"
   ]
  },
  {
   "cell_type": "code",
   "execution_count": 0,
   "metadata": {
    "application/vnd.databricks.v1+cell": {
     "cellMetadata": {
      "byteLimit": 2048000,
      "rowLimit": 10000
     },
     "inputWidgets": {},
     "nuid": "aa291f82-63dd-493d-8f4b-f7829a7f9a6e",
     "showTitle": false,
     "tableResultSettingsMap": {
      "0": {
       "dataGridStateBlob": null,
       "filterBlob": "{\"version\":1,\"filterGroups\":[],\"syncTimestamp\":1748855376273}",
       "queryPlanFiltersBlob": "[]",
       "tableResultIndex": 0
      }
     },
     "title": ""
    }
   },
   "outputs": [],
   "source": [
    "# I will need the following code to initialise Spark Session in standalone Python notebooks\n",
    "# from pyspark.sql import SparkSession\n",
    "# spark = SparkSession.builder.appName(\"Data Cleaning\").getOrCreate()\n",
    "\n",
    "\n",
    "# File Endpoint and Format \n",
    "file_location = \"/FileStore/tables/accepted_2007_to_2018Q4.csv\"\n",
    "file_type = \"csv\"\n",
    "\n",
    "# CSV options\n",
    "infer_schema = \"false\"\n",
    "first_row_is_header = \"true\"\n",
    "delimiter = \",\"\n",
    "\n",
    "# Reading a CSV file \n",
    "df = spark.read.format(file_type) \\\n",
    "  .option(\"inferSchema\", infer_schema) \\\n",
    "  .option(\"header\", first_row_is_header) \\\n",
    "  .option(\"sep\", delimiter) \\\n",
    "  .load(file_location)\n",
    "\n",
    "display(df)"
   ]
  },
  {
   "cell_type": "markdown",
   "metadata": {
    "application/vnd.databricks.v1+cell": {
     "cellMetadata": {
      "byteLimit": 2048000,
      "rowLimit": 10000
     },
     "inputWidgets": {},
     "nuid": "cba91bc0-3aeb-484d-ae80-c6c775cf1bf3",
     "showTitle": false,
     "tableResultSettingsMap": {},
     "title": ""
    }
   },
   "source": [
    "#### 1.1 Data Dictionary \n",
    "\n",
    "The following is the explanation of what some features in the dataset mean. There will be additional explanations in some features to facilitate my understanding of each column. The original data dictionary is obtained from [Figshare](https://figshare.com/articles/dataset/Lending_club_dataset_description/20016077). \n",
    "\n",
    "##### Loan Details \n",
    "\n",
    "- **id**: Unique loan listing / request identifier (not yet funded / issued)\n",
    "- **memberId**: Unique borrower ID \n",
    "- **loan_amnt**: Amount requested by borrower\n",
    "- **issue_d**: Month-Year the loan is funded/issued to borrower \n",
    "\n",
    "- **funded_amnt**: Total amount of money funded to the borrower (may be partially / fully funded)\n",
    "- **funded_amnt_inv**: Total amount of money funded to borrower by **investors** (should be the same as `funded_amnt`)\n",
    "  - This column exists, because in **investors' dataset**, investors can see individual contributions to the borrower's requested amount \n",
    "- **term**: Loan term (months)\n",
    "- **int_rate**: Interest rate\n",
    "- **installment**: Monthly payment upon approved loan \n",
    "\n",
    "- **grade vs sub_grade**: \n",
    "  - Grade: Broad Risk Category (A,B)\n",
    "  - Sub_Grade: A1,B2 (Specific)\n",
    "\n",
    "- **purpose**: Reason for borrowing money\n",
    "\n",
    "- **title**: Similar to `purpose`\n",
    "\n",
    "- **desc**: Loan description (provided by borrower, like a Carousel Listing)\n",
    "\n",
    "- **url**: Link to loan listing \n",
    "\n",
    "- **initial_list_status**: Lending Club determines how loans will be funded by investors based on risk level, investors then see these listings on the platform\n",
    "  - `F`: Fractional loans (Many investors fund small parts)\n",
    "  - `w`: Whole loans (Offered to 1 investor who funds everything)\n",
    "\n",
    "- **disbursement_method**: How loan funding was delivered to borrower\n",
    "  - **Cash**: Funds directly deposited to borrower's bank account \n",
    "  - **Direct_Pay**: Lending Club pays debts for you (Use new personal loan to pay off old debts, at lower interest rates)\n",
    "\n",
    "- **policy_code**:\n",
    "  - `1`: Publicly Available Product (Loan is public in Lending Club Platform)\n",
    "  - `2`: Private Loan Product (Loan is a special private offering, e.g. for ceertain investors only)\n",
    "\n",
    "- **pymnt_plan**: Checks if payment plan in place for borrower to catch up on missed payments \n",
    "  - 'n': refers to 'No Payment Plan'\n",
    "\n",
    "- **application_type**: Single / Joint \n",
    "loan application \n",
    "\n",
    "\n",
    "##### Borrower Demographics \n",
    "- **emp_title**: Borrower’s job title\n",
    "- **emp_length**: Years in current job\n",
    "- **home_ownership**: Home ownership status (rented / owned)\n",
    "- **annual_inc**: Borrower’s annual income\n",
    "- **verification_status**: If **individual borrower's income** is verified by Lending Club platform (via Singpass in SG context)\n",
    "- **zip_code**/**addr_state**: U,S, state of residence (`CA`: California)\n",
    "\n",
    "##### Borrower Credit History & Scores\n",
    "- 📍 **dti**: Debt-Income Ratio (20% DTI means 20% of borrower's income go to debt payments) (Higher DTI is a red flag 🚩)\n",
    "\n",
    "- **delinq_2yrs**: Number of times borrower was 30+days late on payments (delinquency: missed payments) for the past 2 years\n",
    "\n",
    "- **earliest_cr_line**: Earliest Credit Line (Date borrower opened his earliest credit account) \n",
    "  - Open credit account usually means you start borrowing money / gain access to credit, e.g. buy now, pay later with credit cards \n",
    "\n",
    "- - **last_fico_range_high & last_fico_range_low**: FICO scores upon last credit report pull by Lending Club (to decide on loan approval)\n",
    "\n",
    "- 📍 **fico_range_low & fico_range_high**: Credit Rating of Borrower when they are approved for loan (used to assess credit risk)\n",
    "  - 300–579\tPoor\n",
    "  - 580–669\tFair\n",
    "  - 670–739\tGood\n",
    "  - 740–799\tVery Good\n",
    "  - 800–850\tExcellent\n",
    "\n",
    "- 📍 **inq_last_6mths**: Number of credit inquiries past 6 months \n",
    "  - Everytime borrower apply loan, lender check their credit report \n",
    "  - High number of credit inquiries = 要过几次钱 (possibly out of financial stress = higher risk of defaulting / delinquency)\n",
    "  \n",
    "\n",
    "\n",
    "\n",
    "- **open_acc**: How many credit accounts borrower has currently open (e.g. credit cards, loans, mortgages). Many credit accounts may mean over-reliance on credit and higher credit risk \n",
    "\n",
    "\n",
    "- 📍 **revol_bal**: Total amount borrower owes on revolving credit accounts (credit cards, lines of credit)\n",
    "  - **Revolving Accounts**: Borrower can reborrow money up till max credit limit without end-date (重复性的)\n",
    "  - **Installment Loan**: Borrower cannot reborrow unless he apply for new loan, 一次性借钱） \n",
    "  - **Line of Credit**: Type of revolving credit. Types are as shown: \n",
    "    - **Credit Card**\n",
    "    - **Personal Line of Credit**: Used to borrow from bank (for any loan)\n",
    "    - **Home Equity Line of Credit (HELOC)**: Used for home improvements / bulk purchases (home as collateral)\n",
    "    - **Business Line of Credit**: To help businesses with cash flow \n",
    "\n",
    "- 📍 **revol_util**: Revolving Line Utilisation Rate (How much credit is borrower currently using, with respect to total credit limit)\n",
    "\n",
    "- **total_acc**: Total number of credit lines / accounts borrower has in credit file (opened/closed)\n",
    "\n",
    "- **last_credit_pull_d**: The last date Lending Cluub checked borrower's credit report (monitor borrower, assess risk)\n",
    "\n",
    "\n",
    "- 📍 **collections_12_mths_ex_med**: Number of debt collections in past 12 months, excluding medical bills \n",
    "  - **Collection**: Borrower fails to repay debt -> Lending Club sells debt to collection agency -> Collection agency acts as loan shark to get back money \n",
    "  - Collections can be a **strong signal for financial distress**, since it signals trouble of repaying future loans \n",
    "\n",
    "##### Borrower Public Records & Delinquencies \n",
    "- **pub_rec_bankruptcies**: Number of bankruptcies listed as public records \n",
    "\n",
    "- **tax_liens**: Number of tax liens \n",
    "\n",
    "- **delinq_amt**: Total money currently owed on all delinquent accounts (It is time to pay money!)\n",
    "\n",
    "- **acc_now_delinq**: Number of accounts borrower is currently delinquent (late on payments)\n",
    "\n",
    "- **chargeoff_within_12_mths**: Number of accounts charged off (considered as loss/defaulted) by creditors in past 12 months \n",
    "\n",
    "- **num_accts_ever_120_pd**: Number of times borrower is 120+ days late on payment in their life (Very Late)\n",
    "\n",
    "- **num_tl_30dpd**: Number of accounts currently 30 or more days due (Updated past 2 months)\n",
    "\n",
    "- **num_tl_90g_dpd_24m**: Number of accounts that have been 90 or more days past due in the last 24 months\n",
    "\n",
    "\n",
    "- **num_tl_120dpd_2m**: Number of accounts that have been 120 or more days past due in the last 2 months.\n",
    "\n",
    "\n",
    "- **mths_since_last_delinq**: Months since borrower's last delinquency (late payment)\n",
    "\n",
    "- 📍 **mths_since_last_record**: Months since borrowers' last **public record**\n",
    "  - **Public Record** refers to negative financial events officially recorded in legal documents (serious credit / legal issues). Types are shown below: \n",
    "    - **Bankruptcy**\n",
    "    - **Tax Lien**: Government claim on property due to unpaid tax\n",
    "    - **Civil Judgement**: Court ruling (lawsuits) that borrower must pay debt \n",
    "\n",
    "  - Empty records considered to be more stable \n",
    "\n",
    "- 📍 **pub_rec**: Number of degoratory public records (bankruptcies ...) the borrower has\n",
    "\n",
    "- **mths_since_last_major_derog**\n",
    "\n",
    "\n",
    "##### Loan Performance & Balance Changes of Lending Club \n",
    "\n",
    "The following features track how loan behaves after issuing. These features are crucial since they impact Lending Club profitability. \n",
    "\n",
    "- **out_prncp**: Remaining Outstanding Principal Sum (How much of original loan, excluding interest, is left to be paid back) \n",
    "\n",
    "- **out_prncp_inv**: (Same as Above - Investors portion)\n",
    "\n",
    "- **total_pymnt**: Sum of all repayments made by Borrower so far \n",
    "\n",
    "\n",
    "- **total_pymnt_inv**: (Same as Above)\n",
    "\n",
    "- **total_rec_int**: Total Interest Received (made by borrower) by Lending Club\n",
    "\n",
    "- **total_rec_prncp**: Total Received Principal (excluding interest) by Lending Club\n",
    "\n",
    "- **last_pymnt_d**: Date of most recent payment made by borrower \n",
    "\n",
    "- **last_pymnt_amnt**: Amount of most recent payment received by Lending Club from borrower \n",
    "\n",
    "- **next_pymnt_date**: Scheduled date for next payment for the borrower \n",
    "\n",
    "- **total_rec_late_fee**: Total late penalty fees borrower paid due to late payments \n",
    "\n",
    "- **recoveries**: Post Charge-Off Gross Recovery Payments \n",
    "  - Loan is charged off (marked as loss to investors due to borrower defaulting)\n",
    "  - **Post Charge Off Gross Recovery Payments**: Total recovered money after loan was charged off \n",
    "\n",
    "- **collection_recovery_fee**: Cost Lending Club has to incur to recover money **after loan has defaulted**\n",
    "\n",
    "\n",
    "##### Revolving Account Details \n",
    "- **open_rv_12m**\n",
    "- **open_rv_24m**\n",
    "\n",
    "- **max_bal_bc**\n",
    "- **all_util**\n",
    "- **total_rev_hi_lim**\n",
    "\n",
    "- **bc_open_to_buy**\\\n",
    "- **bc_util**\n",
    "- **il_util**\n",
    "- **num_actv_rev_tl**\n",
    "- **num_rev_accts**\n",
    "- **num_rev_tl_bal_gt_0**\n",
    "\n",
    "\n",
    "\n",
    "##### Account Activity \n",
    "\n",
    "The following columns track borrower behaviour with credit accounts (opening/closing accounts, inquiries, delinquencies)\n",
    "\n",
    "- **num_tl_op_past_12m**\n",
    "\n",
    "\n",
    "\n",
    "\n",
    "\n",
    "##### Joint Applications\n",
    "\n",
    "Joint Applications for a loan refers to a shared responsibility for repaying the full amount, e.g. couples, family members, friends, business partners. They have better chances of loan approval, given 1 appplicant has a stronger credit history. Missed payments (Delinquency) also affect credit scores of those involved. \n",
    "\n",
    "The following features are related to joint applications. \n",
    "\n",
    "- **verification_status_joint**: Checks if combined income of applicants is verified by Lending Club platform (For joint applications: e.g. )\n",
    "\n",
    "\n",
    "##### Mortgage & Installment Accounts \n",
    "\n",
    "\n",
    "##### Hardship & Settlement Programs \n",
    "Harship programs (Loan-Specific) are to temporarily help borrowers in trouble, via payment reduction / lower interest rate etc. \n",
    "\n",
    "Settlement programs are permanent agreements where lender accepts less than full repayments. \n",
    "\n",
    "Borrowers in these programmes have higher risk and it is important to track them for credit risk modeling in banks. \n",
    "\n",
    "- **hardship_flag**: Borrower requested payment relief (Y / N)\n",
    "\n",
    "- **hardship_type**: Reason of hardship (e.g., job loss, medical)\n",
    "\n",
    "- **hardship_reason**: Detailed description of why the borrower needed help\n",
    "\n",
    "- **hardship_status**: Current state (active/completed/approved)\n",
    "\n",
    "- **hardship_amount**: New payment the borrower is allowed to make on this loan \n",
    "\n",
    "- **hardship_start_date/end_date**: Period is the hardship programme\n",
    "\n",
    "- **payment_plan_start_date**: First reduced payment date \n",
    "\n",
    "- **hardship_length**: How long the hardship program lasts (in months)\n",
    "\n",
    "- **hardship_dpd**: How late the borrower was in paying (in days) before getting hardship help \n",
    "\n",
    "- **hardship_loan_status**: Status of loan at the time borrower entered hardship plan (Loan is current [on-time]/ in grace / late)\n",
    "\n",
    "- **orig_projected_additional_accrued_interest**: Estimated extra interest borrower will have to pay if relief is not granted\n",
    "\n",
    "- **hardship_payoff_balance_amount**: Remaining balance of loan to be paid at relief start\n",
    "\n",
    "- **hardship_last_payment_amount**: Amount of last payment the borrower made before relief starts \n",
    "\n",
    "- **debt_settlement_flag**: Borrower negotiated to pay less than owed\n",
    "\n",
    "- **debt_settlement_flag_date**: Date settlement started\n",
    "\n",
    "- **settlement_status**: Settlement progress\n",
    "\n",
    "- **settlement_date**: Date settled\n",
    "\n",
    "- **settlement_amount**: Final payment amount\n",
    "\n",
    "- **settlement_percentage**: % of original debt paid\n",
    "\n",
    "- **settlement_term**: Duration of settlement agreement\n",
    "\n",
    "##### Aggregate Balances & Metrics \n",
    "The following columns are summary statistics of borrowers' overall credit health at the time of the loan listing. Such features are important for predicting repayment capacity of the borrower. \n",
    "- **tot_coll_amt**: Total debt in collections (extreme financial distress signaller!)\n",
    "\n",
    "- **tot_cur_bal**: Total current debt across all accounts\n",
    "\n",
    "- **avg_cur_bal**: Average balance per account\n",
    "\n",
    "- **total_bal_ex_mort**: Total non-mortgage debt\n",
    "\n",
    "- **tot_hi_cred_lim**: Total high credit / credit limit \n",
    "\n",
    "- **num_sats**: Number of satisfactory accounts\n",
    "\n",
    "- **num_bc_sats**: Number of satisfactory bank card acccounts \n",
    "\n",
    "- 📍 **pct_tl_nvr_dlq**: % trade lines (borrower credit accounts) never delinquent (never late on payment)\n",
    "\n",
    "- **percent_bc_gt_75**: % of bank cards with > 75% limit used\n",
    "\n",
    "- **total_cu_tl**: Number of Credit union accounts / trade linesin c\n",
    "  - **Credit Union**: Members pool their money to provide loans to each other (offering lower interest rates on loans)\n",
    "  - Members of credit unions have lower risks due to higher financial stability \n",
    "\n"
   ]
  },
  {
   "cell_type": "markdown",
   "metadata": {
    "application/vnd.databricks.v1+cell": {
     "cellMetadata": {
      "byteLimit": 2048000,
      "rowLimit": 10000
     },
     "inputWidgets": {},
     "nuid": "695252bf-414f-41bb-9877-ef6f3346fee2",
     "showTitle": false,
     "tableResultSettingsMap": {},
     "title": ""
    }
   },
   "source": [
    "#### 1.2 Examine Dataset "
   ]
  },
  {
   "cell_type": "code",
   "execution_count": 0,
   "metadata": {
    "application/vnd.databricks.v1+cell": {
     "cellMetadata": {
      "byteLimit": 2048000,
      "rowLimit": 10000
     },
     "inputWidgets": {},
     "nuid": "52fa5669-066b-43f2-b482-d6892b74f203",
     "showTitle": false,
     "tableResultSettingsMap": {},
     "title": ""
    }
   },
   "outputs": [],
   "source": [
    "df.columns"
   ]
  },
  {
   "cell_type": "markdown",
   "metadata": {
    "application/vnd.databricks.v1+cell": {
     "cellMetadata": {
      "byteLimit": 2048000,
      "rowLimit": 10000
     },
     "inputWidgets": {},
     "nuid": "42037362-ce56-452a-b0ab-c7ed82e612ec",
     "showTitle": false,
     "tableResultSettingsMap": {},
     "title": ""
    }
   },
   "source": [
    "##### 1.3 Sorting Dataset\n",
    "For credit risk modeling, banks use past data loan data to predict future defaults / metrics. As such, we want our dataset to be sorted in **chronological order**, so that built models are trained on older data, and tested on newer data **(out-of-time split)**. \n",
    "\n",
    "There should not be random splitting of data **(out-of-sample split)**, e.g. `train-test-split` from `sklearn` since credit-risk modeling is a **time-series problem**.\n",
    "\n",
    "Hence, I will be sorting the dataset right from the start. \n",
    "\n"
   ]
  },
  {
   "cell_type": "code",
   "execution_count": 0,
   "metadata": {
    "application/vnd.databricks.v1+cell": {
     "cellMetadata": {
      "byteLimit": 2048000,
      "rowLimit": 10000
     },
     "inputWidgets": {},
     "nuid": "7c678723-3bc8-43c3-a6fa-b6170413e254",
     "showTitle": false,
     "tableResultSettingsMap": {},
     "title": ""
    }
   },
   "outputs": [],
   "source": [
    "unique_issue_d = df.select(\"issue_d\").distinct()\n",
    "display(unique_issue_d)"
   ]
  },
  {
   "cell_type": "code",
   "execution_count": 0,
   "metadata": {
    "application/vnd.databricks.v1+cell": {
     "cellMetadata": {
      "byteLimit": 2048000,
      "rowLimit": 10000
     },
     "inputWidgets": {},
     "nuid": "b5acdef2-ed62-4b93-84c5-1a7f19c2ccf4",
     "showTitle": false,
     "tableResultSettingsMap": {},
     "title": ""
    }
   },
   "outputs": [],
   "source": [
    "# df.sort(col('id').asc()).display() # or .desc() \n",
    "\n",
    "df.sort(\"issue_d\", \"id\", ascending=[1,1]).display()\n"
   ]
  },
  {
   "cell_type": "code",
   "execution_count": 0,
   "metadata": {
    "application/vnd.databricks.v1+cell": {
     "cellMetadata": {
      "byteLimit": 2048000,
      "rowLimit": 10000
     },
     "inputWidgets": {},
     "nuid": "e7c5dc99-410f-43b1-98a3-f3ed113bc925",
     "showTitle": false,
     "tableResultSettingsMap": {},
     "title": ""
    }
   },
   "outputs": [],
   "source": []
  }
 ],
 "metadata": {
  "application/vnd.databricks.v1+notebook": {
   "computePreferences": null,
   "dashboards": [],
   "environmentMetadata": {
    "base_environment": "",
    "environment_version": "2"
   },
   "inputWidgetPreferences": null,
   "language": "python",
   "notebookMetadata": {
    "pythonIndentUnit": 4
   },
   "notebookName": "ExploratoryDataAnalysis",
   "widgets": {}
  },
  "language_info": {
   "name": "python"
  }
 },
 "nbformat": 4,
 "nbformat_minor": 0
}
