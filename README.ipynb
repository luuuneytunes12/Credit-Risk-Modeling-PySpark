{
 "cells": [
  {
   "cell_type": "markdown",
   "metadata": {
    "application/vnd.databricks.v1+cell": {
     "cellMetadata": {},
     "inputWidgets": {},
     "nuid": "0b407ce9-1c05-4ca6-ab5f-f8fe45ed6d8d",
     "showTitle": false,
     "tableResultSettingsMap": {},
     "title": ""
    }
   },
   "source": [
    "## Project Description\n",
    "\n",
    "In this project, I will be exploring the world of credit risk modeling in banks. To simulate this, I will be using a dataset provided by Lending Club, a peer-to-peer lending company. Though slightly different from the business of traditional banks loan consumers, this project would be a good stepping stone for me to learn the fundamentals of credit risk modeling. \n",
    "\n",
    "Specifically, i will be building 3 ML models to predict PD (Probability of Default), EAD (Exposure at Default) via tree / regression models and LGD (Loss Given Default) via survival analysis. I will then be deriving an interpretable credit scorecard and Expected Loss for each loan, to assist Lending Club in improving its credit policy. \n",
    "\n",
    "This project is inspired by https://github.com/allmeidaapedro/Lending-Club-Credit-Scoring, and I will be incorporating additional ideas in different phases of the project, such as survival analysis and PCA, for learning purposes. \n",
    "\n",
    "I will be utilising the Crisp-DM Data Science Framework seen below to maintain data integrity, especially given the strict regulations of Basel III.\n",
    "\n",
    "<p style=\"text-align:center;\">\n",
    "<img src=\"./1200px-CRISP-DM_Process_Diagram.png\" width=\"25%\">\n",
    "</p> \n"
   ]
  },
  {
   "cell_type": "code",
   "execution_count": 0,
   "metadata": {
    "application/vnd.databricks.v1+cell": {
     "cellMetadata": {},
     "inputWidgets": {},
     "nuid": "f53ec20c-d651-4f08-8d05-09941c3d9f36",
     "showTitle": false,
     "tableResultSettingsMap": {},
     "title": ""
    }
   },
   "outputs": [],
   "source": []
  }
 ],
 "metadata": {
  "application/vnd.databricks.v1+notebook": {
   "computePreferences": null,
   "dashboards": [],
   "environmentMetadata": {
    "base_environment": "",
    "environment_version": "2"
   },
   "inputWidgetPreferences": null,
   "language": "python",
   "notebookMetadata": {
    "pythonIndentUnit": 4
   },
   "notebookName": "README",
   "widgets": {}
  },
  "language_info": {
   "name": "python"
  }
 },
 "nbformat": 4,
 "nbformat_minor": 0
}
